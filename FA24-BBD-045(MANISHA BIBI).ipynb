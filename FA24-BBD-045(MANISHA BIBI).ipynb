{
 "cells": [
  {
   "attachments": {},
   "cell_type": "markdown",
   "id": "2da5ab8d-59d0-4f04-8ba0-971e1ae9cbdb",
   "metadata": {},
   "source": [
    "# \"Solved Exercices on Dictionaries in python\"\n",
    "\n"
   ]
  },
  {
   "cell_type": "code",
   "execution_count": 1,
   "id": "89bf2a47-7fcd-42d7-b2ee-3295f07fdc5d",
   "metadata": {},
   "outputs": [
    {
     "name": "stdout",
     "output_type": "stream",
     "text": [
      "{'name': 'Manisha', 'age': 19, 'city': 'Lahore', 'hobbies': ['reading', 'writing', 'coding']}\n"
     ]
    }
   ],
   "source": [
    "#(a) Dictionary to Store Person Information\n",
    "person = {\n",
    "    \"name\": \"Manisha\",\n",
    "    \"age\": 19,\n",
    "    \"city\": \"Lahore\",\n",
    "    \"hobbies\": [\"reading\", \"writing\", \"coding\"]\n",
    "}\n",
    "print(person)"
   ]
  },
  {
   "cell_type": "code",
   "execution_count": 5,
   "id": "a526d89f-b856-490b-ba13-a130bb092480",
   "metadata": {},
   "outputs": [
    {
     "name": "stdout",
     "output_type": "stream",
     "text": [
      "{'hello': 2, 'everyone': 1, 'world': 1}\n"
     ]
    }
   ],
   "source": [
    "# (b) Program to Count Word Frequency\n",
    "def word_frequency(text):\n",
    "    frequency = {}\n",
    "    words = text.split()\n",
    "    for word in words:\n",
    "        if word in frequency:\n",
    "            frequency[word] += 1\n",
    "        else:\n",
    "            frequency[word] = 1\n",
    "    return frequency\n",
    "\n",
    "text = \"hello everyone hello world\"\n",
    "print(word_frequency(text))\n"
   ]
  },
  {
   "cell_type": "code",
   "execution_count": 9,
   "id": "bdfa1d15-078f-4418-9af0-76186de45d36",
   "metadata": {},
   "outputs": [
    {
     "name": "stdout",
     "output_type": "stream",
     "text": [
      "Inventory:\n",
      "Apples: 7\n",
      "Bananas: 5\n"
     ]
    }
   ],
   "source": [
    "# (c) Simple Inventory System\n",
    "inventory = {}\n",
    "\n",
    "def add_item(name, quantity):\n",
    "    if name in inventory:\n",
    "        inventory[name] += quantity\n",
    "    else:\n",
    "        inventory[name] = quantity\n",
    "\n",
    "def remove_item(name, quantity):\n",
    "    if name in inventory:\n",
    "        inventory[name] -= quantity\n",
    "        if inventory[name] <= 0:\n",
    "            del inventory[name]\n",
    "\n",
    "def show_inventory():\n",
    "    print(\"Inventory:\")\n",
    "    for item, qty in inventory.items():\n",
    "        print(f\"{item}: {qty}\")\n",
    "\n",
    "# Example\n",
    "add_item(\"Apples\", 10)\n",
    "add_item(\"Bananas\", 5)\n",
    "remove_item(\"Apples\", 3)\n",
    "show_inventory()"
   ]
  },
  {
   "cell_type": "code",
   "execution_count": 11,
   "id": "eb3160d9-d858-4f8a-86f0-76f568654516",
   "metadata": {},
   "outputs": [
    {
     "name": "stdout",
     "output_type": "stream",
     "text": [
      "Most Popular Category: Electronics\n"
     ]
    }
   ],
   "source": [
    "# (d) Find Most Popular Product Category\n",
    "orders = [\n",
    "    {\"product\": \"Laptop\", \"category\": \"Electronics\"},\n",
    "    {\"product\": \"Phone\", \"category\": \"Electronics\"},\n",
    "    {\"product\": \"Shirt\", \"category\": \"Clothing\"},\n",
    "    {\"product\": \"Laptop\", \"category\": \"Electronics\"}\n",
    "]\n",
    "\n",
    "def most_popular_category(orders):\n",
    "    categories = {}\n",
    "    for order in orders:\n",
    "        category = order[\"category\"]\n",
    "        if category in categories:\n",
    "            categories[category] += 1\n",
    "        else:\n",
    "            categories[category] = 1\n",
    "    return max(categories, key=categories.get)\n",
    "\n",
    "print(\"Most Popular Category:\", most_popular_category(orders))"
   ]
  },
  {
   "cell_type": "code",
   "execution_count": 13,
   "id": "9fdad105-1bd8-4b2d-86f6-1042c6007632",
   "metadata": {},
   "outputs": [
    {
     "name": "stdout",
     "output_type": "stream",
     "text": [
      "Manisha: Average Grade = 85.00\n",
      "Ali: Average Grade = 75.00\n",
      "Sara: Average Grade = 90.00\n"
     ]
    }
   ],
   "source": [
    "# (e) Student Grades and Average Calculation\n",
    "grades = {\n",
    "    \"Manisha\": [80, 90, 85],\n",
    "    \"Ali\": [75, 80, 70],\n",
    "    \"Sara\": [88, 92, 90]\n",
    "}\n",
    "\n",
    "def calculate_averages(grades):\n",
    "    for student, marks in grades.items():\n",
    "        average = sum(marks) / len(marks)\n",
    "        print(f\"{student}: Average Grade = {average:.2f}\")\n",
    "\n",
    "calculate_averages(grades)\n"
   ]
  },
  {
   "cell_type": "code",
   "execution_count": 15,
   "id": "8b67f3f5-410e-4698-ac63-d198c3761c1a",
   "metadata": {},
   "outputs": [
    {
     "name": "stdout",
     "output_type": "stream",
     "text": [
      "Total Inventory Value: 150\n",
      "Low Stock Items: []\n"
     ]
    }
   ],
   "source": [
    "# (f) Inventory Management\n",
    "inventory = {}\n",
    "\n",
    "def add_product(name, quantity, price):\n",
    "    inventory[name] = {\"quantity\": quantity, \"price\": price}\n",
    "\n",
    "def update_quantity(name, quantity):\n",
    "    if name in inventory:\n",
    "        inventory[name][\"quantity\"] += quantity\n",
    "\n",
    "def total_value():\n",
    "    total = 0\n",
    "    for product in inventory.values():\n",
    "        total += product[\"quantity\"] * product[\"price\"]\n",
    "    return total\n",
    "\n",
    "def low_stock(threshold=5):\n",
    "    return [name for name, details in inventory.items() if details[\"quantity\"] < threshold]\n",
    "\n",
    "# Example\n",
    "add_product(\"Pen\", 10, 5)\n",
    "add_product(\"Notebook\", 3, 20)\n",
    "update_quantity(\"Notebook\", 2)\n",
    "print(\"Total Inventory Value:\", total_value())\n",
    "print(\"Low Stock Items:\", low_stock())\n"
   ]
  },
  {
   "cell_type": "code",
   "execution_count": 17,
   "id": "12c75e18-961d-4c64-a85e-b65bae65b7eb",
   "metadata": {},
   "outputs": [
    {
     "name": "stdout",
     "output_type": "stream",
     "text": [
      "Manisha: Average Grade = 87.67\n",
      "Ali: Average Grade = 75.00\n",
      "Sara: Average Grade = 90.67\n",
      "Highest in Math: ('Sara', 92)\n",
      "Lowest in Math: ('Ali', 75)\n"
     ]
    }
   ],
   "source": [
    "# (g) Student Gradebook\n",
    "gradebook = {\n",
    "    \"Manisha\": {\"Math\": 85, \"Science\": 90, \"English\": 88},\n",
    "    \"Ali\": {\"Math\": 75, \"Science\": 70, \"English\": 80},\n",
    "    \"Sara\": {\"Math\": 92, \"Science\": 95, \"English\": 85}\n",
    "}\n",
    "\n",
    "def calculate_average_grades(gradebook):\n",
    "    for student, subjects in gradebook.items():\n",
    "        average = sum(subjects.values()) / len(subjects)\n",
    "        print(f\"{student}: Average Grade = {average:.2f}\")\n",
    "\n",
    "def highest_lowest(subject):\n",
    "    scores = [(student, details[subject]) for student, details in gradebook.items() if subject in details]\n",
    "    scores.sort(key=lambda x: x[1], reverse=True)\n",
    "    print(f\"Highest in {subject}: {scores[0]}\")\n",
    "    print(f\"Lowest in {subject}: {scores[-1]}\")\n",
    "\n",
    "calculate_average_grades(gradebook)\n",
    "highest_lowest(\"Math\")\n"
   ]
  },
  {
   "cell_type": "code",
   "execution_count": 21,
   "id": "a12c1f76-51d1-4bb9-b942-b959161ee56f",
   "metadata": {},
   "outputs": [
    {
     "name": "stdout",
     "output_type": "stream",
     "text": [
      "Cart: {'Pen': 5, 'Notebook': 2}\n",
      "Cart after removal: {'Pen': 3, 'Notebook': 2}\n",
      "Total Cost (with discount and tax): 54.45\n"
     ]
    }
   ],
   "source": [
    "# (h) Simple E-commerce Store\n",
    "# Dictionary to store product information: name, price, quantity\n",
    "products = {\n",
    "    \"Pen\": {\"price\": 5, \"quantity\": 50},\n",
    "    \"Notebook\": {\"price\": 20, \"quantity\": 30},\n",
    "    \"Bag\": {\"price\": 500, \"quantity\": 10},\n",
    "}\n",
    "\n",
    "# Shopping cart to track user selections\n",
    "cart = {}\n",
    "\n",
    "# Function to add products to the cart\n",
    "def add_to_cart(product, quantity):\n",
    "    if product in products and products[product][\"quantity\"] >= quantity:\n",
    "        cart[product] = cart.get(product, 0) + quantity\n",
    "        products[product][\"quantity\"] -= quantity\n",
    "    else:\n",
    "        print(f\"Insufficient stock for {product}.\")\n",
    "\n",
    "# Function to remove products from the cart\n",
    "def remove_from_cart(product, quantity):\n",
    "    if product in cart and cart[product] >= quantity:\n",
    "        cart[product] -= quantity\n",
    "        if cart[product] == 0:\n",
    "            del cart[product]\n",
    "        products[product][\"quantity\"] += quantity\n",
    "    else:\n",
    "        print(f\"Cannot remove {quantity} of {product} from cart.\")\n",
    "\n",
    "# Function to calculate the total cost of the cart\n",
    "def calculate_total(discount=0, tax=0.1):\n",
    "    total = sum(products[product][\"price\"] * qty for product, qty in cart.items())\n",
    "    total -= total * discount  # Apply discount\n",
    "    total += total * tax       # Apply tax\n",
    "    return total\n",
    "\n",
    "# Example usage\n",
    "add_to_cart(\"Pen\", 5)\n",
    "add_to_cart(\"Notebook\", 2)\n",
    "print(\"Cart:\", cart)\n",
    "\n",
    "remove_from_cart(\"Pen\", 2)\n",
    "print(\"Cart after removal:\", cart)\n",
    "\n",
    "# Calculate total cost with a 10% discount and 10% tax\n",
    "total_cost = calculate_total(discount=0.1, tax=0.1)\n",
    "print(\"Total Cost (with discount and tax):\", total_cost)"
   ]
  },
  {
   "cell_type": "code",
   "execution_count": null,
   "id": "dc4175c1-2cb9-4e9b-959a-db9a3b46ab0c",
   "metadata": {},
   "outputs": [],
   "source": []
  }
 ],
 "metadata": {
  "kernelspec": {
   "display_name": "Python 3 (ipykernel)",
   "language": "python",
   "name": "python3"
  },
  "language_info": {
   "codemirror_mode": {
    "name": "ipython",
    "version": 3
   },
   "file_extension": ".py",
   "mimetype": "text/x-python",
   "name": "python",
   "nbconvert_exporter": "python",
   "pygments_lexer": "ipython3",
   "version": "3.12.4"
  }
 },
 "nbformat": 4,
 "nbformat_minor": 5
}
